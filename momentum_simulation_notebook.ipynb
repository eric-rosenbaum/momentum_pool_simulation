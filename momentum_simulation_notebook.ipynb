# Import the necessary classes and functions
from momentum_simulation import MomentumSimulator

# Define simulation parameters
speed = 10  # magnitude of velocity (m/s)
angle = -3  # angle of speed from positive x-axis (in degrees)
rest_coeff = 0.99  # coefficient of restitution
friction_coeff = 0.01  # friction coefficient
min_speed_threshold = 0.2  # minimum speed threshold
target_location = [10, 5]  # target location in meters

# Create an instance of the simulator
simulator = MomentumSimulator(speed, angle, rest_coeff, friction_coeff, min_speed_threshold, target_location)

# Run the simulation
white_positions, black_positions = simulator.simulate()

# Plot the results
simulator.plot_simulation(white_positions, black_positions)
